{
 "cells": [
  {
   "cell_type": "code",
   "execution_count": 2,
   "metadata": {},
   "outputs": [
    {
     "name": "stderr",
     "output_type": "stream",
     "text": [
      "Using TensorFlow backend.\n"
     ]
    }
   ],
   "source": [
    "import numpy as np\n",
    "import os \n",
    "import pandas as pd\n",
    "from pathlib import Path\n",
    "from keras.preprocessing import image"
   ]
  },
  {
   "cell_type": "code",
   "execution_count": 5,
   "metadata": {},
   "outputs": [],
   "source": [
    "df = pd.read_csv(\"Train/train.csv\")\n",
    "\n",
    "dfx = df.values"
   ]
  },
  {
   "cell_type": "code",
   "execution_count": 6,
   "metadata": {},
   "outputs": [
    {
     "data": {
      "text/html": [
       "<div>\n",
       "<style scoped>\n",
       "    .dataframe tbody tr th:only-of-type {\n",
       "        vertical-align: middle;\n",
       "    }\n",
       "\n",
       "    .dataframe tbody tr th {\n",
       "        vertical-align: top;\n",
       "    }\n",
       "\n",
       "    .dataframe thead th {\n",
       "        text-align: right;\n",
       "    }\n",
       "</style>\n",
       "<table border=\"1\" class=\"dataframe\">\n",
       "  <thead>\n",
       "    <tr style=\"text-align: right;\">\n",
       "      <th></th>\n",
       "      <th>ImageId</th>\n",
       "      <th>NameOfPokemon</th>\n",
       "    </tr>\n",
       "  </thead>\n",
       "  <tbody>\n",
       "    <tr>\n",
       "      <th>0</th>\n",
       "      <td>296.jpg</td>\n",
       "      <td>Pikachu</td>\n",
       "    </tr>\n",
       "    <tr>\n",
       "      <th>1</th>\n",
       "      <td>297.jpg</td>\n",
       "      <td>Pikachu</td>\n",
       "    </tr>\n",
       "    <tr>\n",
       "      <th>2</th>\n",
       "      <td>298.jpg</td>\n",
       "      <td>Pikachu</td>\n",
       "    </tr>\n",
       "    <tr>\n",
       "      <th>3</th>\n",
       "      <td>299.jpg</td>\n",
       "      <td>Pikachu</td>\n",
       "    </tr>\n",
       "    <tr>\n",
       "      <th>4</th>\n",
       "      <td>300.jpg</td>\n",
       "      <td>Pikachu</td>\n",
       "    </tr>\n",
       "  </tbody>\n",
       "</table>\n",
       "</div>"
      ],
      "text/plain": [
       "   ImageId NameOfPokemon\n",
       "0  296.jpg       Pikachu\n",
       "1  297.jpg       Pikachu\n",
       "2  298.jpg       Pikachu\n",
       "3  299.jpg       Pikachu\n",
       "4  300.jpg       Pikachu"
      ]
     },
     "execution_count": 6,
     "metadata": {},
     "output_type": "execute_result"
    }
   ],
   "source": [
    "df.head()"
   ]
  },
  {
   "cell_type": "code",
   "execution_count": 7,
   "metadata": {},
   "outputs": [
    {
     "name": "stdout",
     "output_type": "stream",
     "text": [
      "[['296.jpg' 'Pikachu']\n",
      " ['297.jpg' 'Pikachu']\n",
      " ['298.jpg' 'Pikachu']\n",
      " ['299.jpg' 'Pikachu']\n",
      " ['300.jpg' 'Pikachu']\n",
      " ['301.jpg' 'Pikachu']\n",
      " ['302.jpg' 'Pikachu']\n",
      " ['303.jpg' 'Pikachu']\n",
      " ['304.jpg' 'Pikachu']\n",
      " ['305.jpg' 'Pikachu']\n",
      " ['306.jpg' 'Pikachu']\n",
      " ['307.jpg' 'Pikachu']\n",
      " ['308.jpg' 'Pikachu']\n",
      " ['309.jpg' 'Pikachu']\n",
      " ['310.jpg' 'Pikachu']\n",
      " ['311.jpg' 'Pikachu']\n",
      " ['312.jpg' 'Pikachu']\n",
      " ['313.jpg' 'Pikachu']\n",
      " ['314.jpg' 'Pikachu']\n",
      " ['315.jpg' 'Pikachu']\n",
      " ['316.jpg' 'Pikachu']\n",
      " ['317.jpg' 'Pikachu']\n",
      " ['318.jpg' 'Pikachu']\n",
      " ['319.jpg' 'Pikachu']\n",
      " ['320.jpg' 'Pikachu']\n",
      " ['321.jpg' 'Pikachu']\n",
      " ['322.jpg' 'Pikachu']\n",
      " ['323.jpg' 'Pikachu']\n",
      " ['324.jpg' 'Pikachu']\n",
      " ['325.jpg' 'Pikachu']\n",
      " ['326.jpg' 'Pikachu']\n",
      " ['327.jpg' 'Pikachu']\n",
      " ['328.jpg' 'Pikachu']\n",
      " ['329.jpg' 'Pikachu']\n",
      " ['330.jpg' 'Pikachu']\n",
      " ['331.jpg' 'Pikachu']\n",
      " ['332.jpg' 'Pikachu']\n",
      " ['333.jpg' 'Pikachu']\n",
      " ['334.jpg' 'Pikachu']\n",
      " ['335.jpg' 'Pikachu']\n",
      " ['336.jpg' 'Pikachu']\n",
      " ['337.jpg' 'Pikachu']\n",
      " ['338.jpg' 'Pikachu']\n",
      " ['339.jpg' 'Pikachu']\n",
      " ['340.jpg' 'Pikachu']\n",
      " ['341.jpg' 'Pikachu']\n",
      " ['342.jpg' 'Pikachu']\n",
      " ['343.jpg' 'Pikachu']\n",
      " ['344.jpg' 'Pikachu']\n",
      " ['345.jpg' 'Pikachu']\n",
      " ['346.jpg' 'Pikachu']\n",
      " ['347.jpg' 'Pikachu']\n",
      " ['348.jpg' 'Pikachu']\n",
      " ['349.jpg' 'Pikachu']\n",
      " ['350.jpg' 'Pikachu']\n",
      " ['351.jpg' 'Pikachu']\n",
      " ['352.jpg' 'Pikachu']\n",
      " ['353.jpg' 'Pikachu']\n",
      " ['354.jpg' 'Pikachu']\n",
      " ['355.jpg' 'Pikachu']\n",
      " ['356.jpg' 'Pikachu']\n",
      " ['357.jpg' 'Pikachu']\n",
      " ['358.jpg' 'Pikachu']\n",
      " ['359.jpg' 'Pikachu']\n",
      " ['360.jpg' 'Pikachu']\n",
      " ['361.jpg' 'Pikachu']\n",
      " ['362.jpg' 'Pikachu']\n",
      " ['363.jpg' 'Pikachu']\n",
      " ['364.jpg' 'Pikachu']\n",
      " ['365.jpg' 'Pikachu']\n",
      " ['366.jpg' 'Pikachu']\n",
      " ['367.jpg' 'Pikachu']\n",
      " ['368.jpg' 'Pikachu']\n",
      " ['369.jpg' 'Pikachu']\n",
      " ['370.jpg' 'Pikachu']\n",
      " ['371.jpg' 'Pikachu']\n",
      " ['372.jpg' 'Pikachu']\n",
      " ['373.jpg' 'Pikachu']\n",
      " ['374.jpg' 'Pikachu']\n",
      " ['375.jpg' 'Pikachu']\n",
      " ['376.jpg' 'Pikachu']\n",
      " ['377.jpg' 'Pikachu']\n",
      " ['378.jpg' 'Pikachu']\n",
      " ['379.jpg' 'Pikachu']\n",
      " ['380.jpg' 'Pikachu']\n",
      " ['381.jpg' 'Pikachu']\n",
      " ['382.jpg' 'Pikachu']\n",
      " ['383.jpg' 'Pikachu']\n",
      " ['384.jpg' 'Pikachu']\n",
      " ['385.jpg' 'Pikachu']\n",
      " ['386.jpg' 'Pikachu']\n",
      " ['387.jpg' 'Pikachu']\n",
      " ['388.jpg' 'Pikachu']\n",
      " ['389.jpg' 'Pikachu']\n",
      " ['390.jpg' 'Pikachu']\n",
      " ['391.jpg' 'Pikachu']\n",
      " ['392.jpg' 'Pikachu']\n",
      " ['393.jpg' 'Pikachu']\n",
      " ['394.jpg' 'Pikachu']\n",
      " ['395.jpg' 'Pikachu']\n",
      " ['396.jpg' 'Pikachu']\n",
      " ['397.jpg' 'Bulbasaur']\n",
      " ['398.jpg' 'Bulbasaur']\n",
      " ['399.jpg' 'Bulbasaur']\n",
      " ['400.jpg' 'Bulbasaur']\n",
      " ['401.jpg' 'Bulbasaur']\n",
      " ['402.jpg' 'Bulbasaur']\n",
      " ['403.jpg' 'Bulbasaur']\n",
      " ['404.jpg' 'Bulbasaur']\n",
      " ['405.jpg' 'Bulbasaur']\n",
      " ['406.jpg' 'Bulbasaur']\n",
      " ['407.jpg' 'Bulbasaur']\n",
      " ['408.jpg' 'Bulbasaur']\n",
      " ['409.jpg' 'Bulbasaur']\n",
      " ['410.jpg' 'Bulbasaur']\n",
      " ['411.jpg' 'Bulbasaur']\n",
      " ['412.jpg' 'Bulbasaur']\n",
      " ['413.jpg' 'Bulbasaur']\n",
      " ['414.jpg' 'Bulbasaur']\n",
      " ['415.jpg' 'Bulbasaur']\n",
      " ['416.jpg' 'Bulbasaur']\n",
      " ['417.jpg' 'Bulbasaur']\n",
      " ['418.jpg' 'Bulbasaur']\n",
      " ['419.jpg' 'Bulbasaur']\n",
      " ['420.jpg' 'Bulbasaur']\n",
      " ['421.jpg' 'Bulbasaur']\n",
      " ['422.jpg' 'Bulbasaur']\n",
      " ['423.jpg' 'Bulbasaur']\n",
      " ['424.jpg' 'Bulbasaur']\n",
      " ['425.jpg' 'Bulbasaur']\n",
      " ['426.jpg' 'Bulbasaur']\n",
      " ['427.jpg' 'Bulbasaur']\n",
      " ['428.jpg' 'Bulbasaur']\n",
      " ['429.jpg' 'Bulbasaur']\n",
      " ['430.jpg' 'Bulbasaur']\n",
      " ['431.jpg' 'Bulbasaur']\n",
      " ['432.jpg' 'Bulbasaur']\n",
      " ['433.jpg' 'Bulbasaur']\n",
      " ['434.jpg' 'Bulbasaur']\n",
      " ['435.jpg' 'Bulbasaur']\n",
      " ['436.jpg' 'Bulbasaur']\n",
      " ['437.jpg' 'Bulbasaur']\n",
      " ['438.jpg' 'Bulbasaur']\n",
      " ['439.jpg' 'Bulbasaur']\n",
      " ['440.jpg' 'Bulbasaur']\n",
      " ['441.jpg' 'Bulbasaur']\n",
      " ['442.jpg' 'Bulbasaur']\n",
      " ['443.jpg' 'Bulbasaur']\n",
      " ['444.jpg' 'Bulbasaur']\n",
      " ['445.jpg' 'Bulbasaur']\n",
      " ['446.jpg' 'Bulbasaur']\n",
      " ['447.jpg' 'Bulbasaur']\n",
      " ['448.jpg' 'Bulbasaur']\n",
      " ['449.jpg' 'Bulbasaur']\n",
      " ['450.jpg' 'Bulbasaur']\n",
      " ['451.jpg' 'Bulbasaur']\n",
      " ['452.jpg' 'Bulbasaur']\n",
      " ['453.jpg' 'Bulbasaur']\n",
      " ['454.jpg' 'Bulbasaur']\n",
      " ['455.jpg' 'Bulbasaur']\n",
      " ['456.jpg' 'Bulbasaur']\n",
      " ['457.jpg' 'Bulbasaur']\n",
      " ['458.jpg' 'Bulbasaur']\n",
      " ['459.jpg' 'Bulbasaur']\n",
      " ['460.jpg' 'Bulbasaur']\n",
      " ['461.jpg' 'Bulbasaur']\n",
      " ['462.jpg' 'Bulbasaur']\n",
      " ['463.jpg' 'Bulbasaur']\n",
      " ['464.jpg' 'Bulbasaur']\n",
      " ['465.jpg' 'Bulbasaur']\n",
      " ['466.jpg' 'Bulbasaur']\n",
      " ['467.jpg' 'Bulbasaur']\n",
      " ['468.jpg' 'Bulbasaur']\n",
      " ['469.jpg' 'Bulbasaur']\n",
      " ['470.jpg' 'Bulbasaur']\n",
      " ['471.jpg' 'Bulbasaur']\n",
      " ['472.jpg' 'Bulbasaur']\n",
      " ['473.jpg' 'Bulbasaur']\n",
      " ['474.jpg' 'Bulbasaur']\n",
      " ['475.jpg' 'Bulbasaur']\n",
      " ['476.jpg' 'Bulbasaur']\n",
      " ['477.jpg' 'Bulbasaur']\n",
      " ['478.jpg' 'Bulbasaur']\n",
      " ['479.jpg' 'Bulbasaur']\n",
      " ['480.jpg' 'Bulbasaur']\n",
      " ['481.jpg' 'Bulbasaur']\n",
      " ['482.jpg' 'Bulbasaur']\n",
      " ['483.jpg' 'Bulbasaur']\n",
      " ['484.jpg' 'Bulbasaur']\n",
      " ['485.jpg' 'Bulbasaur']\n",
      " ['486.jpg' 'Bulbasaur']\n",
      " ['487.jpg' 'Bulbasaur']\n",
      " ['488.jpg' 'Bulbasaur']\n",
      " ['489.jpg' 'Bulbasaur']\n",
      " ['490.jpg' 'Bulbasaur']\n",
      " ['491.jpg' 'Bulbasaur']\n",
      " ['492.jpg' 'Bulbasaur']\n",
      " ['493.jpg' 'Bulbasaur']\n",
      " ['494.jpg' 'Bulbasaur']\n",
      " ['495.jpg' 'Bulbasaur']\n",
      " ['496.jpg' 'Bulbasaur']\n",
      " ['497.jpg' 'Bulbasaur']\n",
      " ['498.jpg' 'Charmander']\n",
      " ['520.jpg' 'Charmander']\n",
      " ['521.jpg' 'Charmander']\n",
      " ['522.jpg' 'Charmander']\n",
      " ['523.jpg' 'Charmander']\n",
      " ['524.jpg' 'Charmander']\n",
      " ['525.jpg' 'Charmander']\n",
      " ['526.jpg' 'Charmander']\n",
      " ['527.jpg' 'Charmander']\n",
      " ['528.jpg' 'Charmander']\n",
      " ['529.jpg' 'Charmander']\n",
      " ['530.jpg' 'Charmander']\n",
      " ['531.jpg' 'Charmander']\n",
      " ['532.jpg' 'Charmander']\n",
      " ['533.jpg' 'Charmander']\n",
      " ['534.jpg' 'Charmander']\n",
      " ['535.jpg' 'Charmander']\n",
      " ['536.jpg' 'Charmander']\n",
      " ['537.jpg' 'Charmander']\n",
      " ['538.jpg' 'Charmander']\n",
      " ['539.jpg' 'Charmander']\n",
      " ['540.jpg' 'Charmander']\n",
      " ['541.jpg' 'Charmander']\n",
      " ['542.jpg' 'Charmander']\n",
      " ['543.jpg' 'Charmander']\n",
      " ['544.jpg' 'Charmander']\n",
      " ['545.jpg' 'Charmander']\n",
      " ['546.jpg' 'Charmander']\n",
      " ['547.jpg' 'Charmander']\n",
      " ['548.jpg' 'Charmander']\n",
      " ['549.jpg' 'Charmander']\n",
      " ['550.jpg' 'Charmander']\n",
      " ['551.jpg' 'Charmander']\n",
      " ['552.jpg' 'Charmander']\n",
      " ['553.jpg' 'Charmander']\n",
      " ['554.jpg' 'Charmander']\n",
      " ['555.jpg' 'Charmander']\n",
      " ['556.jpg' 'Charmander']\n",
      " ['557.jpg' 'Charmander']\n",
      " ['558.jpg' 'Charmander']\n",
      " ['559.jpg' 'Charmander']\n",
      " ['560.jpg' 'Charmander']\n",
      " ['561.jpg' 'Charmander']\n",
      " ['562.jpg' 'Charmander']\n",
      " ['563.jpg' 'Charmander']\n",
      " ['564.jpg' 'Charmander']\n",
      " ['565.jpg' 'Charmander']\n",
      " ['566.jpg' 'Charmander']\n",
      " ['567.jpg' 'Charmander']\n",
      " ['568.jpg' 'Charmander']\n",
      " ['569.jpg' 'Charmander']\n",
      " ['570.jpg' 'Charmander']\n",
      " ['571.jpg' 'Charmander']\n",
      " ['572.jpg' 'Charmander']\n",
      " ['573.jpg' 'Charmander']\n",
      " ['574.jpg' 'Charmander']\n",
      " ['575.jpg' 'Charmander']\n",
      " ['576.jpg' 'Charmander']\n",
      " ['577.jpg' 'Charmander']\n",
      " ['578.jpg' 'Charmander']\n",
      " ['579.jpg' 'Charmander']\n",
      " ['580.jpg' 'Charmander']\n",
      " ['581.jpg' 'Charmander']\n",
      " ['582.jpg' 'Charmander']\n",
      " ['583.jpg' 'Charmander']\n",
      " ['584.jpg' 'Charmander']\n",
      " ['585.jpg' 'Charmander']\n",
      " ['586.jpg' 'Charmander']\n",
      " ['587.jpg' 'Charmander']\n",
      " ['588.jpg' 'Charmander']\n",
      " ['589.jpg' 'Charmander']\n",
      " ['590.jpg' 'Charmander']\n",
      " ['591.jpg' 'Charmander']\n",
      " ['592.jpg' 'Charmander']\n",
      " ['593.jpg' 'Charmander']\n",
      " ['594.jpg' 'Charmander']\n",
      " ['595.jpg' 'Charmander']\n",
      " ['596.jpg' 'Charmander']\n",
      " ['597.jpg' 'Charmander']\n",
      " ['598.jpg' 'Charmander']\n",
      " ['599.jpg' 'Charmander']\n",
      " ['600.jpg' 'Charmander']\n",
      " ['601.jpg' 'Charmander']\n",
      " ['602.jpg' 'Charmander']\n",
      " ['603.jpg' 'Charmander']\n",
      " ['604.jpg' 'Charmander']\n",
      " ['605.jpg' 'Charmander']\n",
      " ['606.jpg' 'Charmander']\n",
      " ['607.jpg' 'Charmander']\n",
      " ['608.jpg' 'Charmander']\n",
      " ['609.jpg' 'Charmander']\n",
      " ['610.jpg' 'Charmander']\n",
      " ['611.jpg' 'Charmander']\n",
      " ['612.jpg' 'Charmander']\n",
      " ['613.jpg' 'Charmander']\n",
      " ['614.jpg' 'Charmander']\n",
      " ['615.jpg' 'Charmander']\n",
      " ['616.jpg' 'Charmander']\n",
      " ['617.jpg' 'Charmander']\n",
      " ['618.jpg' 'Charmander']\n",
      " ['619.jpg' 'Charmander']\n",
      " ['620.jpg' 'Charmander']]\n"
     ]
    }
   ],
   "source": [
    "print(dfx)"
   ]
  },
  {
   "cell_type": "code",
   "execution_count": null,
   "metadata": {},
   "outputs": [],
   "source": []
  },
  {
   "cell_type": "code",
   "execution_count": null,
   "metadata": {},
   "outputs": [],
   "source": []
  },
  {
   "cell_type": "code",
   "execution_count": 2,
   "metadata": {},
   "outputs": [],
   "source": [
    "import matplotlib.pyplot as plt"
   ]
  },
  {
   "cell_type": "code",
   "execution_count": 3,
   "metadata": {},
   "outputs": [
    {
     "name": "stderr",
     "output_type": "stream",
     "text": [
      "/home/shubham/anaconda3/envs/my_env/lib/python3.7/site-packages/PIL/Image.py:965: UserWarning: Palette images with Transparency   expressed in bytes should be converted to RGBA images\n",
      "  ' expressed in bytes should be converted ' +\n"
     ]
    }
   ],
   "source": [
    "p = Path(\"Datasets/images/\")\n",
    "dirs = p.glob(\"*\")\n",
    "\n",
    "labels_dict = {'pikachu':0,'balbasaur':1,'charmander':2}\n",
    "\n",
    "image_data = []\n",
    "labels = []\n",
    "\n",
    "for folder_dir in dirs:\n",
    "    #print(folder_name)\n",
    "    label = str(folder_dir).split(\"/\")[-1]\n",
    "    \n",
    "    \n",
    "    for img_path in folder_dir.glob(\"*.jpg\"):\n",
    "        img = image.load_img(img_path,target_size=(51,51))\n",
    "        img_array = image.img_to_array(img)\n",
    "        image_data.append(img_array)\n",
    "        labels.append(labels_dict[label])\n",
    "        "
   ]
  },
  {
   "cell_type": "code",
   "execution_count": null,
   "metadata": {},
   "outputs": [],
   "source": []
  },
  {
   "cell_type": "code",
   "execution_count": null,
   "metadata": {},
   "outputs": [],
   "source": []
  },
  {
   "cell_type": "code",
   "execution_count": 4,
   "metadata": {},
   "outputs": [
    {
     "name": "stdout",
     "output_type": "stream",
     "text": [
      "(304, 51, 51, 3) (304,)\n"
     ]
    }
   ],
   "source": [
    "# Convert this into numpy array\n",
    "image_data = np.array(image_data,dtype='float32')/255.0\n",
    "labels = np.array(labels)\n",
    "\n",
    "print(image_data.shape,labels.shape)"
   ]
  },
  {
   "cell_type": "markdown",
   "metadata": {},
   "source": [
    "### Randomly Shuffle our Data!"
   ]
  },
  {
   "cell_type": "code",
   "execution_count": 5,
   "metadata": {},
   "outputs": [],
   "source": [
    "import random\n",
    "\n",
    "combined = list(zip(image_data,labels))\n",
    "random.shuffle(combined)\n",
    "\n",
    "#Unzip\n",
    "image_data[:],labels[:] = zip(*combined)"
   ]
  },
  {
   "cell_type": "markdown",
   "metadata": {},
   "source": [
    "\n",
    "### Visualise this data!"
   ]
  },
  {
   "cell_type": "code",
   "execution_count": 6,
   "metadata": {},
   "outputs": [
    {
     "data": {
      "image/png": "[encoded data removed]",
      "text/plain": [
       "<Figure size 432x288 with 1 Axes>"
      ]
     },
     "metadata": {
      "needs_background": "light"
     },
     "output_type": "display_data"
    },
    {
     "data": {
      "image/png": "[encoded data removed]",
      "text/plain": [
       "<Figure size 432x288 with 1 Axes>"
      ]
     },
     "metadata": {
      "needs_background": "light"
     },
     "output_type": "display_data"
    },
    {
     "data": {
      "image/png": "[encoded data removed]",
      "text/plain": [
       "<Figure size 432x288 with 1 Axes>"
      ]
     },
     "metadata": {
      "needs_background": "light"
     },
     "output_type": "display_data"
    },
    {
     "data": {
      "image/png": "[encoded data removed]",
      "text/plain": [
       "<Figure size 432x288 with 1 Axes>"
      ]
     },
     "metadata": {
      "needs_background": "light"
     },
     "output_type": "display_data"
    },
    {
     "data": {
      "image/png": "[encoded data removed]",
      "text/plain": [
       "<Figure size 432x288 with 1 Axes>"
      ]
     },
     "metadata": {
      "needs_background": "light"
     },
     "output_type": "display_data"
    },
    {
     "data": {
      "image/png": "[encoded data removed]",
      "text/plain": [
       "<Figure size 432x288 with 1 Axes>"
      ]
     },
     "metadata": {
      "needs_background": "light"
     },
     "output_type": "display_data"
    },
    {
     "data": {
      "image/png": "[encoded data removed]",
      "text/plain": [
       "<Figure size 432x288 with 1 Axes>"
      ]
     },
     "metadata": {
      "needs_background": "light"
     },
     "output_type": "display_data"
    },
    {
     "data": {
      "image/png": "[encoded data removed]",
      "text/plain": [
       "<Figure size 432x288 with 1 Axes>"
      ]
     },
     "metadata": {
      "needs_background": "light"
     },
     "output_type": "display_data"
    },
    {
     "data": {
      "image/png": "[encoded data removed]",
      "text/plain": [
       "<Figure size 432x288 with 1 Axes>"
      ]
     },
     "metadata": {
      "needs_background": "light"
     },
     "output_type": "display_data"
    },
    {
     "data": {
      "image/png": "[encoded data removed]",
      "text/plain": [
       "<Figure size 432x288 with 1 Axes>"
      ]
     },
     "metadata": {
      "needs_background": "light"
     },
     "output_type": "display_data"
    }
   ],
   "source": [
    "from matplotlib import pyplot as plt\n",
    "\n",
    "def drawImg(img):\n",
    "    plt.imshow(img)\n",
    "    plt.axis(\"off\")\n",
    "    plt.show()    \n",
    "    return \n",
    "\n",
    "for i in range(10):\n",
    "    drawImg(image_data[i])"
   ]
  },
  {
   "cell_type": "markdown",
   "metadata": {},
   "source": [
    "## SVM Classifier"
   ]
  },
  {
   "cell_type": "code",
   "execution_count": 7,
   "metadata": {},
   "outputs": [],
   "source": [
    "class SVM:\n",
    "    def __init__(self,C=1.0):\n",
    "        self.C = C\n",
    "        self.W = 0\n",
    "        self.b = 0\n",
    "        \n",
    "    def hingeLoss(self,W,b,X,Y):\n",
    "        loss  = 0.0\n",
    "        \n",
    "        loss += .5*np.dot(W,W.T)\n",
    "        \n",
    "        m = X.shape[0]\n",
    "        \n",
    "        for i in range(m):\n",
    "            ti = Y[i]*(np.dot(W,X[i].T)+b)\n",
    "            loss += self.C *max(0,(1-ti))\n",
    "            \n",
    "        return loss[0][0]\n",
    "    \n",
    "    def fit(self,X,Y,batch_size=50,learning_rate=0.001,maxItr=500):\n",
    "        \n",
    "        no_of_features = X.shape[1]\n",
    "        no_of_samples = X.shape[0]\n",
    "        \n",
    "        n = learning_rate\n",
    "        c = self.C\n",
    "        \n",
    "        #Init the model parameters\n",
    "        W = np.zeros((1,no_of_features))\n",
    "        bias = 0\n",
    "        \n",
    "        #Initial Loss\n",
    "        \n",
    "        #Training from here...\n",
    "        # Weight and Bias update rule that we discussed!\n",
    "        losses = []\n",
    "        \n",
    "        for i in range(maxItr):\n",
    "            #Training Loop\n",
    "            \n",
    "            l = self.hingeLoss(W,bias,X,Y)\n",
    "            losses.append(l)\n",
    "            ids = np.arange(no_of_samples)\n",
    "            np.random.shuffle(ids)\n",
    "            \n",
    "            #Batch Gradient Descent(Paper) with random shuffling\n",
    "            for batch_start in range(0,no_of_samples,batch_size):\n",
    "                #Assume 0 gradient for the batch\n",
    "                gradw = 0\n",
    "                gradb = 0\n",
    "                \n",
    "                #Iterate over all examples in the mini batch\n",
    "                for j in range(batch_start,batch_start+batch_size):\n",
    "                    if j<no_of_samples:\n",
    "                        i = ids[j]\n",
    "                        ti =  Y[i]*(np.dot(W,X[i].T)+bias)\n",
    "                        \n",
    "                        if ti>1:\n",
    "                            gradw += 0\n",
    "                            gradb += 0\n",
    "                        else:\n",
    "                            gradw += c*Y[i]*X[i]\n",
    "                            gradb += c*Y[i]\n",
    "                            \n",
    "                #Gradient for the batch is ready! Update W,B\n",
    "                W = W - n*W + n*gradw\n",
    "                bias = bias + n*gradb\n",
    "                \n",
    "        \n",
    "        self.W = W\n",
    "        self.b = bias\n",
    "        return W,bias,losses"
   ]
  },
  {
   "cell_type": "markdown",
   "metadata": {},
   "source": [
    "## We need to convert data for One-for-One classifcation!"
   ]
  },
  {
   "cell_type": "code",
   "execution_count": 8,
   "metadata": {},
   "outputs": [
    {
     "name": "stdout",
     "output_type": "stream",
     "text": [
      "(304, 7803)\n",
      "(304,)\n"
     ]
    }
   ],
   "source": [
    "M = image_data.shape[0] \n",
    "image_data = image_data.reshape(M,-1)\n",
    "print(image_data.shape)\n",
    "print(labels.shape)"
   ]
  },
  {
   "cell_type": "code",
   "execution_count": null,
   "metadata": {},
   "outputs": [],
   "source": []
  },
  {
   "cell_type": "code",
   "execution_count": 9,
   "metadata": {},
   "outputs": [
    {
     "name": "stdout",
     "output_type": "stream",
     "text": [
      "3\n"
     ]
    }
   ],
   "source": [
    "CLASSES = len(np.unique(labels))\n",
    "print(CLASSES)"
   ]
  },
  {
   "cell_type": "code",
   "execution_count": 10,
   "metadata": {},
   "outputs": [],
   "source": [
    "def classWiseData(x,y):\n",
    "    data = {}\n",
    "    \n",
    "    for i in range(CLASSES):\n",
    "        data[i] = []\n",
    "        \n",
    "    for i in range(x.shape[0]):\n",
    "        data[y[i]].append(x[i])\n",
    "    \n",
    "    for k in data.keys():\n",
    "        data[k] = np.array(data[k])\n",
    "        \n",
    "    return data"
   ]
  },
  {
   "cell_type": "code",
   "execution_count": 11,
   "metadata": {},
   "outputs": [],
   "source": [
    "data = classWiseData(image_data,labels)"
   ]
  },
  {
   "cell_type": "code",
   "execution_count": 12,
   "metadata": {},
   "outputs": [
    {
     "name": "stdout",
     "output_type": "stream",
     "text": [
      "(101, 7803)\n",
      "101\n",
      "102\n"
     ]
    }
   ],
   "source": [
    "print(data[0].shape)\n",
    "print(data[1].shape[0])\n",
    "print(data[2].shape[0])\n"
   ]
  },
  {
   "cell_type": "code",
   "execution_count": 13,
   "metadata": {},
   "outputs": [],
   "source": [
    "def getDataPairForSVM(d1,d2):\n",
    "    \"\"\"Combines Data of two classes into a signle matrix\"\"\"\n",
    "    \n",
    "    l1,l2 = d1.shape[0],d2.shape[0]\n",
    "    \n",
    "    samples = l1+l2\n",
    "    features = d1.shape[1]\n",
    "    \n",
    "    data_pair = np.zeros((samples,features))\n",
    "    data_labels = np.zeros((samples,))\n",
    "    \n",
    "    data_pair[:l1,:] = d1\n",
    "    data_pair[l1:,:] = d2\n",
    "    \n",
    "    data_labels[:l1] = -1\n",
    "    data_labels[l1:] = +1\n",
    "    \n",
    "    return data_pair,data_labels\n",
    "    "
   ]
  },
  {
   "cell_type": "markdown",
   "metadata": {},
   "source": [
    "## Training  NC2 SVM's Part!"
   ]
  },
  {
   "cell_type": "code",
   "execution_count": 14,
   "metadata": {},
   "outputs": [
    {
     "data": {
      "text/plain": [
       "[<matplotlib.lines.Line2D at 0x7ffa0a775f60>]"
      ]
     },
     "execution_count": 14,
     "metadata": {},
     "output_type": "execute_result"
    },
    {
     "data": {
      "image/png": "[encoded data removed]",
      "text/plain": [
       "<Figure size 432x288 with 1 Axes>"
      ]
     },
     "metadata": {
      "needs_background": "light"
     },
     "output_type": "display_data"
    }
   ],
   "source": [
    "mySVM  = SVM()\n",
    "xp, yp  = getDataPairForSVM(data[0],data[1])\n",
    "w,b,loss  = mySVM.fit(xp,yp,learning_rate=0.00001,maxItr=1000)\n",
    "#print(loss)\n",
    "plt.plot(loss)\n"
   ]
  },
  {
   "cell_type": "code",
   "execution_count": 15,
   "metadata": {},
   "outputs": [],
   "source": [
    "def trainSVMs(x,y):\n",
    "    \n",
    "    svm_classifiers = {}\n",
    "    for i in range(CLASSES):\n",
    "        svm_classifiers[i] = {}\n",
    "        for j in range(i+1,CLASSES):\n",
    "            xpair,ypair = getDataPairForSVM(data[i],data[j])\n",
    "            wts,b,loss = mySVM.fit(xpair,ypair,learning_rate=0.00001,maxItr=1000)\n",
    "            svm_classifiers[i][j] = (wts,b)\n",
    "            \n",
    "            plt.plot(loss)\n",
    "            plt.show()\n",
    "            \n",
    "    \n",
    "    return svm_classifiers"
   ]
  },
  {
   "cell_type": "code",
   "execution_count": 16,
   "metadata": {},
   "outputs": [
    {
     "data": {
      "image/png": "[encoded data removed]",
      "text/plain": [
       "<Figure size 432x288 with 1 Axes>"
      ]
     },
     "metadata": {
      "needs_background": "light"
     },
     "output_type": "display_data"
    },
    {
     "data": {
      "image/png": "[encoded data removed]",
      "text/plain": [
       "<Figure size 432x288 with 1 Axes>"
      ]
     },
     "metadata": {
      "needs_background": "light"
     },
     "output_type": "display_data"
    },
    {
     "data": {
      "image/png": "[encoded data removed]",
      "text/plain": [
       "<Figure size 432x288 with 1 Axes>"
      ]
     },
     "metadata": {
      "needs_background": "light"
     },
     "output_type": "display_data"
    }
   ],
   "source": [
    "svm_classifiers = trainSVMs(image_data,labels)"
   ]
  },
  {
   "cell_type": "code",
   "execution_count": 18,
   "metadata": {},
   "outputs": [
    {
     "name": "stdout",
     "output_type": "stream",
     "text": [
      "(1, 7803)\n",
      "0.006990000000000012\n"
     ]
    }
   ],
   "source": [
    "#Parameters for Cats and dogs\n",
    "pikachu_balbasaur = svm_classifiers[0][1]\n",
    "# cats_humans = svm_classifiers[0][2]\n",
    "print(pikachu_balbasaur[0].shape)\n",
    "print(pikachu_balbasaur[1])"
   ]
  },
  {
   "cell_type": "markdown",
   "metadata": {},
   "source": [
    "## Prediction"
   ]
  },
  {
   "cell_type": "code",
   "execution_count": 19,
   "metadata": {},
   "outputs": [],
   "source": [
    "def binaryPredict(x,w,b):\n",
    "    z  = np.dot(x,w.T) + b\n",
    "    if z>=0:\n",
    "        return 1\n",
    "    else:\n",
    "        return -1"
   ]
  },
  {
   "cell_type": "code",
   "execution_count": 20,
   "metadata": {},
   "outputs": [],
   "source": [
    "def predict(x):\n",
    "    \n",
    "    count = np.zeros((CLASSES,))\n",
    "    \n",
    "    for i in range(CLASSES):\n",
    "        for j in range(i+1,CLASSES):\n",
    "            w,b = svm_classifiers[i][j]\n",
    "            #Take a majority prediction \n",
    "            z = binaryPredict(x,w,b)\n",
    "            \n",
    "            if(z==1):\n",
    "                count[j] += 1\n",
    "            else:\n",
    "                count[i] += 1\n",
    "    \n",
    "    final_prediction = np.argmax(count)\n",
    "    #print(count)\n",
    "    return final_prediction"
   ]
  },
  {
   "cell_type": "code",
   "execution_count": 21,
   "metadata": {},
   "outputs": [
    {
     "name": "stdout",
     "output_type": "stream",
     "text": [
      "2\n",
      "0\n"
     ]
    }
   ],
   "source": [
    "print(predict(image_data[0]))\n",
    "print(labels[0])"
   ]
  },
  {
   "cell_type": "code",
   "execution_count": 22,
   "metadata": {},
   "outputs": [],
   "source": [
    "def accuracy(x,y):\n",
    "    \n",
    "    count = 0\n",
    "    for i in range(x.shape[0]):\n",
    "        prediction = predict(x[i])\n",
    "        if(prediction==y[i]):\n",
    "            count += 1\n",
    "            \n",
    "    return count/x.shape[0]"
   ]
  },
  {
   "cell_type": "code",
   "execution_count": 23,
   "metadata": {},
   "outputs": [
    {
     "data": {
      "text/plain": [
       "0.7203947368421053"
      ]
     },
     "execution_count": 23,
     "metadata": {},
     "output_type": "execute_result"
    }
   ],
   "source": [
    "accuracy(image_data,labels)"
   ]
  },
  {
   "cell_type": "markdown",
   "metadata": {},
   "source": [
    "# SVM using SK-learn \n",
    "\n"
   ]
  },
  {
   "cell_type": "code",
   "execution_count": 24,
   "metadata": {},
   "outputs": [],
   "source": [
    "from sklearn import svm"
   ]
  },
  {
   "cell_type": "code",
   "execution_count": 25,
   "metadata": {},
   "outputs": [],
   "source": [
    "svm_classifier = svm.SVC(kernel='linear',C=1.0)"
   ]
  },
  {
   "cell_type": "code",
   "execution_count": 26,
   "metadata": {},
   "outputs": [
    {
     "data": {
      "text/plain": [
       "0.7203947368421053"
      ]
     },
     "execution_count": 26,
     "metadata": {},
     "output_type": "execute_result"
    }
   ],
   "source": [
    "svm_classifier.fit(image_data,labels)\n",
    "svm_classifier.score(image_data,labels)"
   ]
  },
  {
   "cell_type": "code",
   "execution_count": null,
   "metadata": {},
   "outputs": [],
   "source": []
  },
  {
   "cell_type": "code",
   "execution_count": null,
   "metadata": {},
   "outputs": [],
   "source": []
  },
  {
   "cell_type": "code",
   "execution_count": null,
   "metadata": {},
   "outputs": [],
   "source": []
  },
  {
   "cell_type": "code",
   "execution_count": null,
   "metadata": {},
   "outputs": [],
   "source": []
  },
  {
   "cell_type": "code",
   "execution_count": null,
   "metadata": {},
   "outputs": [],
   "source": []
  },
  {
   "cell_type": "code",
   "execution_count": null,
   "metadata": {},
   "outputs": [],
   "source": []
  },
  {
   "cell_type": "code",
   "execution_count": null,
   "metadata": {},
   "outputs": [],
   "source": []
  },
  {
   "cell_type": "code",
   "execution_count": null,
   "metadata": {},
   "outputs": [],
   "source": []
  }
 ],
 "metadata": {
  "kernelspec": {
   "display_name": "Python 3",
   "language": "python",
   "name": "python3"
  },
  "language_info": {
   "codemirror_mode": {
    "name": "ipython",
    "version": 3
   },
   "file_extension": ".py",
   "mimetype": "text/x-python",
   "name": "python",
   "nbconvert_exporter": "python",
   "pygments_lexer": "ipython3",
   "version": "3.7.3"
  }
 },
 "nbformat": 4,
 "nbformat_minor": 2
}
